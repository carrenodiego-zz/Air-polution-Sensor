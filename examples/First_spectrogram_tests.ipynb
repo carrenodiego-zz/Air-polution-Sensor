{
 "cells": [
  {
   "cell_type": "markdown",
   "metadata": {
    "id": "b9GJg4SdyAAo"
   },
   "source": [
    "<h1><center>Global stuff</center></h1>"
   ]
  },
  {
   "cell_type": "code",
   "execution_count": null,
   "metadata": {
    "id": "j2phfsEeyAAp"
   },
   "outputs": [],
   "source": [
    "# Eases updating libs\n",
    "%load_ext autoreload\n",
    "%autoreload 2\n",
    "%matplotlib inline"
   ]
  },
  {
   "cell_type": "code",
   "execution_count": null,
   "metadata": {
    "id": "8EwVicljyAAp"
   },
   "outputs": [],
   "source": [
    "# Imports\n",
    "import sys\n",
    "sys.path.append('../')\n",
    "from IPython.display import clear_output\n",
    "IN_COLAB = 'google.colab' in sys.modules\n",
    "if IN_COLAB:\n",
    "    from google.colab import drive\n",
    "    drive.mount('/content/gdrive')\n",
    "    pwd = \"/content/gdrive/My Drive/S5 Project: Air polution/air-polution-sensor\"\n",
    "    %cd $pwd\n",
    "    !pip install -r requirements.txt\n",
    "    clear_output(wait = True)\n",
    "    from libraries.global_functions import *\n",
    "else:\n",
    "    from libraries.global_functions import *\n",
    "\n",
    "\n",
    "import numpy\n",
    "import scipy.signal\n",
    "import pygsp\n",
    "import ipywidgets"
   ]
  },
  {
   "cell_type": "code",
   "execution_count": null,
   "metadata": {
    "id": "gVhuPUI3yAAp"
   },
   "outputs": [],
   "source": [
    "# Random seed\n",
    "numpy.random.seed(0)"
   ]
  },
  {
   "cell_type": "code",
   "execution_count": null,
   "metadata": {
    "id": "POwpWO-7yAAp"
   },
   "outputs": [],
   "source": [
    "# Useful constants\n",
    "OUTPUT_DIR = \"output/first_tests/\""
   ]
  },
  {
   "cell_type": "markdown",
   "metadata": {
    "id": "eIRhlEzyyAAq"
   },
   "source": [
    "<h1><center>Recreation of https://arxiv.org/pdf/1307.5708.pdf</center></h1>"
   ]
  },
  {
   "cell_type": "markdown",
   "metadata": {
    "id": "vZR1rKLPyAAq"
   },
   "source": [
    "<h2>Temporal version</h2>"
   ]
  },
  {
   "cell_type": "code",
   "execution_count": null,
   "metadata": {
    "id": "yFNbc3eFyAAq"
   },
   "outputs": [],
   "source": [
    "# Constants\n",
    "GRAPH_ORDER = 100\n",
    "KERNEL_SCALE = 300"
   ]
  },
  {
   "cell_type": "code",
   "execution_count": null,
   "metadata": {
    "id": "UreMnyG9yAAq",
    "outputId": "2ff8217c-21f9-4f31-a50f-02c4971954ca"
   },
   "outputs": [],
   "source": [
    "# Let's work on a path graph\n",
    "graph = create_path_graph(GRAPH_ORDER)\n",
    "\n",
    "# Plot\n",
    "plot_graph(graph)"
   ]
  },
  {
   "cell_type": "code",
   "execution_count": null,
   "metadata": {
    "id": "YE_WiwtbyAAu",
    "outputId": "3f5b4491-cec1-47c9-c606-786ef5c634f2"
   },
   "outputs": [],
   "source": [
    "# We create 3 groups of vertices\n",
    "groups = numpy.array([10] * (graph.N//3) +\n",
    "                     [60] * (graph.N//3) +\n",
    "                     [30] * (graph.N-2*graph.N//3))\n",
    "\n",
    "# Plot\n",
    "plot_graph(graph, groups)"
   ]
  },
  {
   "cell_type": "code",
   "execution_count": null,
   "metadata": {
    "id": "QPpSc01byAAv",
    "outputId": "500bb880-d70d-4c88-f4bf-d18130bca6c3"
   },
   "outputs": [],
   "source": [
    "# Signal to analyze is a mix between some frequencies\n",
    "x = numpy.array([graph.U[i, int(groups[i])] for i in range(graph.N)])\n",
    "x /= numpy.linalg.norm(x) ## Fourier function (f_hat)\n",
    "\n",
    "# Plot\n",
    "plot_graph(graph, x)\n",
    "plot_stem(graph.igft(x))\n",
    "plot_stem(graph.gft(x))\n",
    "\n",
    "# Proof: Change f(i) = sin(i)\n",
    "# y = numpy.sin(range(graph.N))\n",
    "# plot_stem(y)\n",
    "# x = graph.gft(y)\n",
    "# # Plot\n",
    "# plot_graph(graph, x)\n",
    "# plot_stem(graph.igft(x))"
   ]
  },
  {
   "cell_type": "code",
   "execution_count": null,
   "metadata": {
    "id": "pGuF5r4nyAAv",
    "outputId": "e26b3c88-e088-4c42-b3d3-aff4a93777f5",
    "scrolled": false
   },
   "outputs": [],
   "source": [
    "# We use a window defined by a heat kernel\n",
    "# Needs to be instanciated on a particular vertex to be the object we want\n",
    "window_kernel = create_heat_kernel(graph, KERNEL_SCALE)\n",
    "localized_kernel = window_kernel.localize(int(graph.N/2))\n",
    "\n",
    "# Plot\n",
    "plot_graph(graph, localized_kernel)"
   ]
  },
  {
   "cell_type": "code",
   "execution_count": null,
   "metadata": {
    "id": "hCojX6wHyAAz",
    "outputId": "2e529dac-3aed-453e-cc13-8e2b87d19bfd",
    "scrolled": false
   },
   "outputs": [],
   "source": [
    "# Graph spectrogram of the signal\n",
    "spectrogram = compute_graph_spectrogram(graph, x, window_kernel)\n",
    "\n",
    "# Plot\n",
    "plot_matrix(spectrogram,\n",
    "            cols_title=\"Vertex\",\n",
    "            cols_labels=range(graph.N),\n",
    "            rows_title=\"Eigenvalue index\",\n",
    "            rows_labels=range(graph.N),\n",
    "            title=\"Spectrogram\",\n",
    "            colorbar=True)"
   ]
  },
  {
   "cell_type": "markdown",
   "metadata": {
    "id": "v1ak45JnyAAz"
   },
   "source": [
    "<h2>Spatial version</h2>"
   ]
  },
  {
   "cell_type": "code",
   "execution_count": null,
   "metadata": {
    "id": "Gn1jY893yAAz"
   },
   "outputs": [],
   "source": [
    "# Constants\n",
    "GRAPH_ORDER = 100\n",
    "KERNEL_SCALE = 10"
   ]
  },
  {
   "cell_type": "code",
   "execution_count": null,
   "metadata": {
    "id": "xaUIcyYoyAAz",
    "outputId": "57e589ff-20da-4dc3-88c4-a278a8dd3e2f"
   },
   "outputs": [],
   "source": [
    "# Let's work on a SBM of 3 blocks\n",
    "groups = numpy.array([0] * (GRAPH_ORDER//3) + [1] * (GRAPH_ORDER//3) + [2] * (GRAPH_ORDER-2*GRAPH_ORDER//3))\n",
    "                     \n",
    "graph = pygsp.graphs.StochasticBlockModel(GRAPH_ORDER, k=3, z=groups, p=[0.4, 0.6, 0.3], q=0.02)\n",
    "graph.set_coordinates(kind=\"spring\", seed=numpy.random.randint(2**32))\n",
    "graph.compute_fourier_basis()\n",
    "\n",
    "# Plot\n",
    "plot_graph(graph)"
   ]
  },
  {
   "cell_type": "code",
   "execution_count": null,
   "metadata": {
    "id": "OKiuJ91cyABB",
    "outputId": "7ef75b95-4b43-48ca-db95-881129d63869"
   },
   "outputs": [],
   "source": [
    "# We create 3 groups of vertices\n",
    "# Same as those in SBM definition\n",
    "groups = numpy.array([10] * (graph.N//3) + [60] * (graph.N//3) + [30] * (graph.N-2*graph.N//3))\n",
    "\n",
    "# Plot\n",
    "plot_graph(graph, groups)"
   ]
  },
  {
   "cell_type": "code",
   "execution_count": null,
   "metadata": {
    "id": "FP2GMvUlyABF",
    "outputId": "a22d576a-c5c0-474e-94b2-13378f16ea97"
   },
   "outputs": [],
   "source": [
    "# Signal to analyze is a mix between some frequencies\n",
    "x = numpy.array([graph.U[i, int(groups[i])] for i in range(graph.N)])\n",
    "x /= numpy.linalg.norm(x)\n",
    "\n",
    "# Plot\n",
    "plot_graph(graph, x)"
   ]
  },
  {
   "cell_type": "code",
   "execution_count": null,
   "metadata": {
    "id": "kDNJD5t3yABG",
    "outputId": "eac8262a-5ae5-4a65-d217-ccbdad961f03"
   },
   "outputs": [],
   "source": [
    "# We use a window defined by a heat kernel\n",
    "# Needs to be instanciated on a particular vertex to be the object we want\n",
    "window_kernel = create_heat_kernel(graph, KERNEL_SCALE)\n",
    "localized_kernel = window_kernel.localize(graph.N//2)\n",
    "\n",
    "# Plot\n",
    "plot_graph(graph, localized_kernel)"
   ]
  },
  {
   "cell_type": "code",
   "execution_count": null,
   "metadata": {
    "id": "nv07n1DwyABH",
    "outputId": "8729de0e-a9b1-4a03-f455-92af4e0147b9"
   },
   "outputs": [],
   "source": [
    "# Graph spectrogram of the signal\n",
    "spectrogram = compute_graph_spectrogram(graph, x, window_kernel)\n",
    "\n",
    "# Plot\n",
    "plot_matrix(spectrogram,\n",
    "            cols_title=\"Vertex\",\n",
    "            cols_labels=range(graph.N),\n",
    "            rows_title=\"Eigenvalue index\",\n",
    "            rows_labels=range(graph.N),\n",
    "            title=\"Spectrogram\",\n",
    "            colorbar=True)"
   ]
  },
  {
   "cell_type": "markdown",
   "metadata": {
    "id": "hhqYiVtayABH"
   },
   "source": [
    "<h1><center>Analysis of spatio-temporal signals</center></h1>"
   ]
  },
  {
   "cell_type": "markdown",
   "metadata": {
    "id": "yDk0roj0yABH"
   },
   "source": [
    "<h2>Create dataset with something varying in space across time</h2>"
   ]
  },
  {
   "cell_type": "code",
   "execution_count": null,
   "metadata": {
    "id": "yP0b3NswyABH"
   },
   "outputs": [],
   "source": [
    "# Constants\n",
    "SPACE_GRAPH_ORDER = 150\n",
    "TIME_GRAPH_ORDER = 100\n",
    "LOCAL_OBJECT_SIZE = 5\n",
    "COMEBACK_PENALTY = 3\n",
    "SPACE_KERNEL_SCALE = 300\n",
    "TIME_KERNEL_SCALE = 10"
   ]
  },
  {
   "cell_type": "code",
   "execution_count": null,
   "metadata": {
    "id": "SUOpfWnbyABH",
    "outputId": "f823bb43-087d-402e-9b7e-3a52184e8229"
   },
   "outputs": [],
   "source": [
    "# Create some graphs\n",
    "g_space = create_sensor_graph(SPACE_GRAPH_ORDER)\n",
    "g_time = create_path_graph(TIME_GRAPH_ORDER)\n",
    "\n",
    "plot_graph(g_space)\n",
    "plot_graph(g_time)"
   ]
  },
  {
   "cell_type": "code",
   "execution_count": null,
   "metadata": {
    "id": "tt_ybv7AyABI"
   },
   "outputs": [],
   "source": [
    "# Function to generate a local thing around a vertex\n",
    "# Here we just consider a polynom of the graph\n",
    "def local_object (graph, center, width=LOCAL_OBJECT_SIZE) :\n",
    "    dirac = scipy.signal.unit_impulse(graph.N, center)\n",
    "    signal = numpy.sum([numpy.power(graph.W, i).dot(dirac) for i in range(width)], axis=0)\n",
    "    signal /= numpy.linalg.norm(signal)\n",
    "    return signal"
   ]
  },
  {
   "cell_type": "code",
   "execution_count": null,
   "metadata": {
    "id": "bsRz3VX0yABI",
    "outputId": "816fbead-2416-4355-9e3f-9a5ed093bf69",
    "scrolled": false
   },
   "outputs": [],
   "source": [
    "# We move an object around randomly\n",
    "# We decrease the probability to go to already visited places\n",
    "signals = numpy.zeros((g_space.N, g_time.N))\n",
    "next_center = numpy.random.randint(g_space.N)\n",
    "visited_counts = numpy.array([1 for i in range(g_space.N)])\n",
    "for t in range(g_time.N) :\n",
    "    signals[:, t] = local_object(g_space, next_center)\n",
    "    visited_counts[next_center] += COMEBACK_PENALTY\n",
    "    neighbors = get_neighbors(g_space, next_center)\n",
    "    probabilities = 1.0 / visited_counts[neighbors]\n",
    "    probabilities /= numpy.linalg.norm(probabilities, 1)\n",
    "    next_center = numpy.random.choice(neighbors, p=probabilities)\n",
    "\n",
    "# Plot\n",
    "plot_matrix(signals,\n",
    "            rows_title=\"Vertex\",\n",
    "            rows_labels=range(g_space.N),\n",
    "            cols_title=\"Instant\",\n",
    "            cols_labels=range(g_time.N),\n",
    "            title=\"Dataset of spatio-temporal signals\",\n",
    "            colorbar=True)"
   ]
  },
  {
   "cell_type": "markdown",
   "metadata": {
    "id": "Bx4Iwvk3yABN"
   },
   "source": [
    "<h2>Study it with spectrogram considering dimensions independently</h2>"
   ]
  },
  {
   "cell_type": "code",
   "execution_count": null,
   "metadata": {
    "colab": {
     "referenced_widgets": [
      "669e5ca83854409cb89817ddc0f3f4e7"
     ]
    },
    "id": "oqgygY02yABN",
    "outputId": "52f665ab-975d-408b-9c9d-6b2c32b491ba",
    "scrolled": false
   },
   "outputs": [],
   "source": [
    "# Kernel for the spectrogram\n",
    "window_space_kernel = create_heat_kernel(g_space, SPACE_KERNEL_SCALE)\n",
    "\n",
    "# Update function for the slider\n",
    "def update (instant) :\n",
    "    \n",
    "    # Compute spectrogram\n",
    "    spectrogram = compute_graph_spectrogram(g_space, signals[:, instant], window_space_kernel)\n",
    "    \n",
    "    # Plot\n",
    "    plot_matrix(spectrogram,\n",
    "                cols_title=\"Vertex\",\n",
    "                cols_labels=range(g_space.N),\n",
    "                rows_title=\"Eigenvalue index\",\n",
    "                rows_labels=range(g_space.N),\n",
    "                title=\"Graph spectrogram of all values observed at time \" + str(instant),\n",
    "                colorbar=True)\n",
    "\n",
    "# Slider\n",
    "ipywidgets.widgets.interact(update, instant=range(g_time.N))"
   ]
  },
  {
   "cell_type": "code",
   "execution_count": null,
   "metadata": {
    "colab": {
     "referenced_widgets": [
      "aad2689a4993461f9cae1fa8f142895a"
     ]
    },
    "id": "hpgv59RjyABN",
    "outputId": "e331bb91-eaba-460d-dda1-3e2671b8fd01",
    "scrolled": false
   },
   "outputs": [],
   "source": [
    "# Kernel for the spectrogram\n",
    "window_time_kernel = create_heat_kernel(g_time, TIME_KERNEL_SCALE)\n",
    "\n",
    "# Update function for the slider\n",
    "def update (vertex) :\n",
    "    \n",
    "    # Compute spectrogram\n",
    "    spectrogram = compute_graph_spectrogram(g_time, signals[vertex, :], window_time_kernel)\n",
    "    \n",
    "    # Plot\n",
    "    plot_matrix(spectrogram,\n",
    "                cols_title=\"Instant\",\n",
    "                cols_labels=range(g_time.N),\n",
    "                rows_title=\"Eigenvalue index\",\n",
    "                rows_labels=range(g_time.N),\n",
    "                title=\"Time spectrogram of all values observed at vertex \" + str(vertex),\n",
    "                colorbar=True)\n",
    "\n",
    "# Slider\n",
    "ipywidgets.widgets.interact(update, vertex=range(g_space.N))"
   ]
  },
  {
   "cell_type": "markdown",
   "metadata": {
    "id": "usJZBBzayABN"
   },
   "source": [
    "<h2>Study it with spectrogram considering dimensions jointly</h2>"
   ]
  },
  {
   "cell_type": "code",
   "execution_count": null,
   "metadata": {
    "id": "rkS8TCZkyABN"
   },
   "outputs": [],
   "source": [
    "# Graphs used\n",
    "graphs = [g_space, g_time]\n",
    "kernel_scales = [SPACE_KERNEL_SCALE, TIME_KERNEL_SCALE]"
   ]
  },
  {
   "cell_type": "code",
   "execution_count": null,
   "metadata": {
    "id": "nCKVD9FJyABN",
    "outputId": "d0adfb5b-b344-4811-8a8c-a53d2396fcfb",
    "scrolled": false
   },
   "outputs": [],
   "source": [
    "# Compute JFT of all signals\n",
    "spectrums = compute_jft(graphs, signals)\n",
    "\n",
    "# Plot\n",
    "plot_matrix(spectrums,\n",
    "            rows_title=\"Space eigenvalue index\",\n",
    "            rows_labels=range(g_space.N),\n",
    "            cols_title=\"Time eigenvalue index\",\n",
    "            cols_labels=range(g_time.N),\n",
    "            title=\"Spectrum of spatio-temporal signals\",\n",
    "            colorbar=True)"
   ]
  },
  {
   "cell_type": "code",
   "execution_count": null,
   "metadata": {
    "colab": {
     "referenced_widgets": [
      "e887e2c8b1a04e21bd955aa19203d5c9"
     ]
    },
    "id": "vbuVBNhjyABO",
    "outputId": "0015dd47-71e6-4ab5-b97e-6a087ca4d446"
   },
   "outputs": [],
   "source": [
    "# We localize a heat kernel\n",
    "window_kernel = create_joint_heat_kernel(graphs, kernel_scales)\n",
    "localized_kernel = localize_joint_heat_kernel(graphs, window_kernel, [graphs[i].N//2 for i in range(len(graphs))])\n",
    "\n",
    "# Update function for the slider\n",
    "def update (instant, vertex) :\n",
    "    \n",
    "    # Plot\n",
    "    plot_graph(graphs[0],\n",
    "               localized_kernel[:, instant],\n",
    "               title=\"Looking at spatial graph for fixed instant \" + str(instant))\n",
    "    plot_graph(graphs[1],\n",
    "               localized_kernel[vertex, :],\n",
    "               title=\"Looking at time graph for fixed vertex \" + str(vertex))\n",
    "\n",
    "# Slider\n",
    "ipywidgets.widgets.interact(update, instant=range(g_time.N), vertex=range(g_space.N))"
   ]
  },
  {
   "cell_type": "code",
   "execution_count": null,
   "metadata": {
    "tags": [
     "outputPrepend"
    ]
   },
   "outputs": [],
   "source": [
    "# We localize a heat kernel\n",
    "window_kernels = create_joint_heat_kernel(graphs, kernel_scales)\n",
    "\n",
    "# Spectrogram joint estimate (hard procedure)\n",
    "spectogram_joint = compute_joint_graph_spectrogram(graphs, signals, window_kernels)"
   ]
  },
  {
   "cell_type": "code",
   "execution_count": null,
   "metadata": {},
   "outputs": [],
   "source": [
    "# Update function for the slider\n",
    "def update (instant, vertex) :\n",
    "    # Plot\n",
    "    plot_matrix(spectogram_joint[:,:, vertex, instant],\n",
    "                cols_title=\"Eigenvalue Vertex-graph\",\n",
    "                cols_labels=range(graphs[1].N),\n",
    "                rows_title=\"Eigenvalue Time-graph\",\n",
    "                rows_labels=range(graphs[0].N),\n",
    "                title=\"Graph spectrogram of all values observed at time \" + str(instant) + \" and vertex \" + str(vertex),\n",
    "                colorbar=True)\n",
    "\n",
    "# Slider\n",
    "ipywidgets.widgets.interact(update, instant=range(g_time.N), vertex=range(g_space.N))"
   ]
  }
 ],
 "metadata": {
  "colab": {
   "name": "First spectrogram tests.ipynb",
   "provenance": []
  },
  "kernelspec": {
   "display_name": "Python 3",
   "language": "python",
   "name": "python3"
  },
  "language_info": {
   "codemirror_mode": {
    "name": "ipython",
    "version": 3
   },
   "file_extension": ".py",
   "mimetype": "text/x-python",
   "name": "python",
   "nbconvert_exporter": "python",
   "pygments_lexer": "ipython3",
   "version": "3.8.5"
  },
  "toc": {
   "base_numbering": 1,
   "nav_menu": {},
   "number_sections": true,
   "sideBar": true,
   "skip_h1_title": false,
   "title_cell": "Table of Contents",
   "title_sidebar": "Contents",
   "toc_cell": false,
   "toc_position": {},
   "toc_section_display": true,
   "toc_window_display": false
  }
 },
 "nbformat": 4,
 "nbformat_minor": 1
}
